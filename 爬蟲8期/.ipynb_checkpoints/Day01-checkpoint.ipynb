{
 "cells": [
  {
   "cell_type": "markdown",
   "id": "f95009c2-b417-43e8-8199-eddc5ad7ef6c",
   "metadata": {
    "jp-MarkdownHeadingCollapsed": true
   },
   "source": [
    "# Day01"
   ]
  },
  {
   "cell_type": "markdown",
   "id": "a0910c9e-8d6f-4a66-946b-bfc19f81c20a",
   "metadata": {
    "jp-MarkdownHeadingCollapsed": true
   },
   "source": [
    "## 01 helly.py"
   ]
  },
  {
   "cell_type": "code",
   "execution_count": null,
   "id": "e099606f-b972-4fe6-b4a8-b4c1e24efc12",
   "metadata": {
    "scrolled": true
   },
   "outputs": [],
   "source": [
    "print(\"hello yuan!!!\")"
   ]
  },
  {
   "cell_type": "markdown",
   "id": "263f8f76-7502-452f-9cfc-7182467af306",
   "metadata": {
    "jp-MarkdownHeadingCollapsed": true
   },
   "source": [
    "## 02 註解語句"
   ]
  },
  {
   "cell_type": "code",
   "execution_count": 2,
   "id": "bcdfd5a3-e867-4334-80ca-86fef66bb9ca",
   "metadata": {},
   "outputs": [
    {
     "name": "stdout",
     "output_type": "stream",
     "text": [
      "hello yuan!!!\n",
      "2\n",
      "101\n"
     ]
    }
   ],
   "source": [
    "# 在控制台打印一个文本字符串\n",
    "print(\"hello yuan!!!\")  # 也可以在这里加注释\n",
    " \n",
    " \n",
    "# 先计算1+1\n",
    "# 打印2\n",
    "print(1+1)\n",
    " \n",
    "\"\"\"\n",
    "先计算1+1\n",
    "打印2\n",
    "这是一个模拟的多行注释\n",
    "\"\"\"\n",
    "print(1+100)"
   ]
  },
  {
   "cell_type": "markdown",
   "id": "67e73ae1-8c24-49ba-8452-e6f506f2d8d8",
   "metadata": {
    "jp-MarkdownHeadingCollapsed": true
   },
   "source": [
    "## 03 語句分隔符"
   ]
  },
  {
   "cell_type": "code",
   "execution_count": 3,
   "id": "cc471623-f590-49d4-a3c9-d69557370543",
   "metadata": {},
   "outputs": [
    {
     "name": "stdout",
     "output_type": "stream",
     "text": [
      "1\n",
      "2\n"
     ]
    }
   ],
   "source": [
    "# Python是一个强缩进的语言\n",
    "# Python语句分隔符 1个是换行符 1个是分号\n",
    "# print(1);print(2)\n",
    " \n",
    "# 推荐换行符\n",
    "print(1)\n",
    "print(2)"
   ]
  },
  {
   "cell_type": "markdown",
   "id": "498a577f-298b-41ba-87ce-6e6e4ccff6e5",
   "metadata": {
    "jp-MarkdownHeadingCollapsed": true
   },
   "source": [
    "## 04 pep8規範"
   ]
  },
  {
   "cell_type": "code",
   "execution_count": null,
   "id": "ce42ced6-1d80-4d82-b608-f6fc09f83fd1",
   "metadata": {},
   "outputs": [],
   "source": [
    "x = 1"
   ]
  },
  {
   "cell_type": "markdown",
   "id": "906fab32-d092-4521-a279-0a20d023a444",
   "metadata": {
    "jp-MarkdownHeadingCollapsed": true
   },
   "source": [
    "## 05 變量(1)"
   ]
  },
  {
   "cell_type": "code",
   "execution_count": 4,
   "id": "30821883-a77b-48f1-b0dc-ef3f7e399f70",
   "metadata": {},
   "outputs": [
    {
     "name": "stdout",
     "output_type": "stream",
     "text": [
      "3\n",
      "-1\n",
      "2\n",
      "0.5\n",
      "1\n"
     ]
    }
   ],
   "source": [
    "# 变量的重复使用\n",
    "# print(1 + 2)\n",
    "# print(1 - 2)\n",
    "# print(1 * 2)\n",
    "# print(1 / 2)\n",
    "# print(1 % 2)\n",
    "# 变量方式\n",
    " \n",
    "x = 1\n",
    "y = 2\n",
    "print(x + y)\n",
    "print(x - y)\n",
    "print(x * y)\n",
    "print(x / y)\n",
    "print(x % y)\n",
    "z = 3"
   ]
  },
  {
   "cell_type": "markdown",
   "id": "3ae00113-37c8-4489-b155-233725cf353d",
   "metadata": {
    "jp-MarkdownHeadingCollapsed": true
   },
   "source": [
    "## 06 變量(2)"
   ]
  },
  {
   "cell_type": "code",
   "execution_count": 5,
   "id": "ec78714b-cbde-4a22-840c-397e80e0cfba",
   "metadata": {},
   "outputs": [
    {
     "name": "stdout",
     "output_type": "stream",
     "text": [
      "1\n",
      "通关完成\n",
      "2\n"
     ]
    }
   ],
   "source": [
    "# 变量的重新赋值（修改变量值）\n",
    "# 游戏\n",
    "user = 'yuan'\n",
    "level = 1\n",
    "print(level)\n",
    "print(\"通关完成\")\n",
    "level = 2 # 变量的重新赋值\n",
    "print(level)"
   ]
  },
  {
   "cell_type": "markdown",
   "id": "660efba9-b0ff-4064-8cff-abe3e34ab7aa",
   "metadata": {
    "jp-MarkdownHeadingCollapsed": true
   },
   "source": [
    "## 07 變量(3)"
   ]
  },
  {
   "cell_type": "code",
   "execution_count": 6,
   "id": "7ab2d07a-54bc-42e4-9ec0-3eab5bb4710e",
   "metadata": {},
   "outputs": [
    {
     "name": "stdout",
     "output_type": "stream",
     "text": [
      "1\n"
     ]
    }
   ],
   "source": [
    "# 变量传递\n",
    "x = 1\n",
    "y = x\n",
    "x = 2\n",
    "print(y)"
   ]
  },
  {
   "cell_type": "markdown",
   "id": "795a53ad-8d16-4a74-abbd-c8264341dc02",
   "metadata": {},
   "source": [
    "## 08 變亮的命名規範"
   ]
  },
  {
   "cell_type": "code",
   "execution_count": null,
   "id": "d0ee1dff-2b5a-41e8-bef7-2566edbb6da8",
   "metadata": {},
   "outputs": [],
   "source": [
    "# 见名知意\n",
    "# x = 20\n",
    "# age =  20\n",
    "# 年龄 = 20 # 不推荐\n",
    " \n",
    " \n",
    "# 变量名只能包含字母、数字和下划线_,不能以数字开头\n",
    " \n",
    "# age!  X\n",
    "# 2age  X\n",
    "# _age  ok\n",
    "# age_2 ok\n",
    " \n",
    " \n",
    "# myfirstname\n",
    "# my_first_name\n",
    " \n",
    "# print = 100\n",
    "# print(\"OK\")"
   ]
  },
  {
   "cell_type": "markdown",
   "id": "bd186d86-80c8-4fd2-8297-e2250225e9a8",
   "metadata": {},
   "source": [
    "## 09 基本數據類型"
   ]
  },
  {
   "cell_type": "code",
   "execution_count": 7,
   "id": "6e2b70ae-9c70-481e-ae91-d7e68630012c",
   "metadata": {},
   "outputs": [
    {
     "name": "stdout",
     "output_type": "stream",
     "text": [
      "False\n",
      "<class 'bool'>\n"
     ]
    }
   ],
   "source": [
    "# 基本数据类型\n",
    " \n",
    " \n",
    "# (1) 整型（int）和浮点型（float）\n",
    " \n",
    "# x = 1\n",
    "# # 内置函数：type：打印某一个数据的类型名\n",
    "# print(type(x))  # <class 'int'>\n",
    "#\n",
    "# y = 3.1415926\n",
    "# # print(type(y))  # <class 'float'>\n",
    "# y_type = type(y)\n",
    "# print(y_type)\n",
    "#\n",
    "# a = 10\n",
    "# b = 20\n",
    "# print(a + b)\n",
    "# print(a - b)\n",
    " \n",
    "# (2) 字符串类型\n",
    " \n",
    "# # name = \"苑昊\"\n",
    "# name = '苑昊!#'\n",
    "# print(name)\n",
    "# print(type(name)) # <class 'str'>\n",
    " \n",
    " \n",
    "# (3) 布尔类型 bool: True：真 False：假\n",
    "# print(True)\n",
    "# print(False)\n",
    " \n",
    "# 配合者比较表达式\n",
    "# print(2 > 1)\n",
    "# print(2 < 0)\n",
    " \n",
    "b = 0 == \"0\"\n",
    "print(b)\n",
    "print(type(b))  # <class 'bool'>"
   ]
  },
  {
   "cell_type": "markdown",
   "id": "84c1f01d-10f2-4389-b7ff-415c611f641b",
   "metadata": {},
   "source": [
    "# Day02"
   ]
  }
 ],
 "metadata": {
  "kernelspec": {
   "display_name": "Python 3 (ipykernel)",
   "language": "python",
   "name": "python3"
  },
  "language_info": {
   "codemirror_mode": {
    "name": "ipython",
    "version": 3
   },
   "file_extension": ".py",
   "mimetype": "text/x-python",
   "name": "python",
   "nbconvert_exporter": "python",
   "pygments_lexer": "ipython3",
   "version": "3.10.10"
  }
 },
 "nbformat": 4,
 "nbformat_minor": 5
}
